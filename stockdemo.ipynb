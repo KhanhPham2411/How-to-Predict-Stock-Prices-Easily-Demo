{
  "nbformat": 4,
  "nbformat_minor": 0,
  "metadata": {
    "kernelspec": {
      "name": "python3",
      "display_name": "Python 3"
    },
    "colab": {
      "name": "Copy of stockdemo.ipynb",
      "provenance": [],
      "include_colab_link": true
    },
    "accelerator": "GPU"
  },
  "cells": [
    {
      "cell_type": "markdown",
      "metadata": {
        "id": "view-in-github",
        "colab_type": "text"
      },
      "source": [
        "<a href=\"https://colab.research.google.com/github/KhanhPham2411/How-to-Predict-Stock-Prices-Easily-Demo/blob/master/stockdemo.ipynb\" target=\"_parent\"><img src=\"https://colab.research.google.com/assets/colab-badge.svg\" alt=\"Open In Colab\"/></a>"
      ]
    },
    {
      "cell_type": "code",
      "metadata": {
        "id": "pP164e7C4A1a",
        "colab_type": "code",
        "colab": {
          "base_uri": "https://localhost:8080/",
          "height": 136
        },
        "outputId": "1322a6ea-64ac-4755-d27b-9ab357b5fdd6"
      },
      "source": [
        "!unzip How-to-Predict-Stock-Prices-Easily-Demo-master.zip"
      ],
      "execution_count": 2,
      "outputs": [
        {
          "output_type": "stream",
          "text": [
            "Archive:  How-to-Predict-Stock-Prices-Easily-Demo-master.zip\n",
            "62f8b47e93d1928d7f51125a3d8221102835d23c\n",
            "   creating: How-to-Predict-Stock-Prices-Easily-Demo-master/\n",
            "  inflating: How-to-Predict-Stock-Prices-Easily-Demo-master/README.md  \n",
            "  inflating: How-to-Predict-Stock-Prices-Easily-Demo-master/lstm.py  \n",
            "  inflating: How-to-Predict-Stock-Prices-Easily-Demo-master/sp500.csv  \n",
            "  inflating: How-to-Predict-Stock-Prices-Easily-Demo-master/stockdemo.ipynb  \n"
          ],
          "name": "stdout"
        }
      ]
    },
    {
      "cell_type": "code",
      "metadata": {
        "id": "4CWfKK2n7ghx",
        "colab_type": "code",
        "colab": {
          "base_uri": "https://localhost:8080/",
          "height": 34
        },
        "outputId": "076ff795-c984-419b-8c00-75b2b60f6605"
      },
      "source": [
        "cd How-to-Predict-Stock-Prices-Easily-Demo-master"
      ],
      "execution_count": 3,
      "outputs": [
        {
          "output_type": "stream",
          "text": [
            "/content/How-to-Predict-Stock-Prices-Easily-Demo-master\n"
          ],
          "name": "stdout"
        }
      ]
    },
    {
      "cell_type": "code",
      "metadata": {
        "id": "cYtAAZqXltSJ",
        "colab_type": "code",
        "outputId": "fbd2f2c3-7cb5-45ed-a356-2762565f9f04",
        "colab": {
          "base_uri": "https://localhost:8080/",
          "height": 34
        }
      },
      "source": [
        "from keras.layers.core import Dense, Activation, Dropout\n",
        "from keras.layers.recurrent import LSTM\n",
        "from keras.models import Sequential\n",
        "import lstm, time #helper libraries"
      ],
      "execution_count": 5,
      "outputs": [
        {
          "output_type": "stream",
          "text": [
            "Using TensorFlow backend.\n"
          ],
          "name": "stderr"
        }
      ]
    },
    {
      "cell_type": "code",
      "metadata": {
        "id": "4wtzAiKmltSV",
        "colab_type": "code",
        "colab": {}
      },
      "source": [
        "#Step 1 Load Data\n",
        "X_train, y_train, X_test, y_test = lstm.load_data('sp500.csv', 50, True)"
      ],
      "execution_count": 0,
      "outputs": []
    },
    {
      "cell_type": "code",
      "metadata": {
        "id": "nsBC5ydFltSa",
        "colab_type": "code",
        "outputId": "0975bae1-7548-4098-df10-36ec8e1b7b99",
        "colab": {
          "base_uri": "https://localhost:8080/",
          "height": 34
        }
      },
      "source": [
        "#Step 2 Build Model\n",
        "model = Sequential()\n",
        "\n",
        "model.add(LSTM(\n",
        "    input_dim=1,\n",
        "    output_dim=50,\n",
        "    return_sequences=True))\n",
        "model.add(Dropout(0.2))\n",
        "\n",
        "model.add(LSTM(\n",
        "    100,\n",
        "    return_sequences=False))\n",
        "model.add(Dropout(0.2))\n",
        "\n",
        "model.add(Dense(\n",
        "    output_dim=1))\n",
        "model.add(Activation('linear'))\n",
        "\n",
        "start = time.time()\n",
        "model.compile(loss='mse', optimizer='rmsprop')\n",
        "print('compilation time : ', time.time() - start)"
      ],
      "execution_count": 8,
      "outputs": [
        {
          "output_type": "stream",
          "text": [
            "compilation time :  0.017692089080810547\n"
          ],
          "name": "stdout"
        }
      ]
    },
    {
      "cell_type": "code",
      "metadata": {
        "id": "fTr9kA4GltSf",
        "colab_type": "code",
        "outputId": "75322a60-614a-413f-99f5-390b2a0029c6",
        "colab": {
          "base_uri": "https://localhost:8080/",
          "height": 85
        }
      },
      "source": [
        "#Step 3 Train the model\n",
        "model.fit(\n",
        "    X_train,\n",
        "    y_train,\n",
        "    batch_size=512,\n",
        "    nb_epoch=1,\n",
        "    validation_split=0.05)"
      ],
      "execution_count": 9,
      "outputs": [
        {
          "output_type": "stream",
          "text": [
            "Train on 3523 samples, validate on 186 samples\n",
            "Epoch 1/1\n",
            "3523/3523 [==============================] - 3s 915us/step - loss: 0.0030 - val_loss: 0.0014\n"
          ],
          "name": "stdout"
        },
        {
          "output_type": "execute_result",
          "data": {
            "text/plain": [
              "<keras.callbacks.callbacks.History at 0x7fa280493a20>"
            ]
          },
          "metadata": {
            "tags": []
          },
          "execution_count": 9
        }
      ]
    },
    {
      "cell_type": "code",
      "metadata": {
        "id": "1ju9D0CkltSl",
        "colab_type": "code",
        "outputId": "4d356a6d-110a-407c-9044-c7e4d5185e64",
        "colab": {
          "base_uri": "https://localhost:8080/",
          "height": 283
        }
      },
      "source": [
        "#Step 4 - Plot the predictions!\n",
        "predictions = lstm.predict_sequences_multiple(model, X_test, 50, 50)\n",
        "lstm.plot_results_multiple(predictions, y_test, 50)"
      ],
      "execution_count": 10,
      "outputs": [
        {
          "output_type": "stream",
          "text": [
            "yo\n"
          ],
          "name": "stdout"
        },
        {
          "output_type": "display_data",
          "data": {
            "image/png": "[encoded data removed]",
            "text/plain": [
              "<Figure size 432x288 with 1 Axes>"
            ]
          },
          "metadata": {
            "tags": []
          }
        }
      ]
    }
  ]
}