{
  "nbformat": 4,
  "nbformat_minor": 0,
  "metadata": {
    "kernelspec": {
      "name": "python3",
      "display_name": "Python 3"
    },
    "colab": {
      "name": "Copy of stockdemo.ipynb",
      "provenance": [],
      "include_colab_link": true
    },
    "accelerator": "GPU"
  },
  "cells": [
    {
      "cell_type": "markdown",
      "metadata": {
        "id": "view-in-github",
        "colab_type": "text"
      },
      "source": [
        "<a href=\"https://colab.research.google.com/github/KhanhPham2411/How-to-Predict-Stock-Prices-Easily-Demo/blob/master/stockdemo.ipynb\" target=\"_parent\"><img src=\"https://colab.research.google.com/assets/colab-badge.svg\" alt=\"Open In Colab\"/></a>"
      ]
    },
    {
      "cell_type": "code",
      "metadata": {
        "id": "qU69Oi5q036l",
        "colab_type": "code",
        "colab": {
          "base_uri": "https://localhost:8080/",
          "height": 190
        },
        "outputId": "07d02e03-36a3-4bf5-e03d-db26ffd10c62"
      },
      "source": [
        "!pip install wget"
      ],
      "execution_count": 2,
      "outputs": [
        {
          "output_type": "stream",
          "text": [
            "Collecting wget\n",
            "  Downloading https://files.pythonhosted.org/packages/47/6a/62e288da7bcda82b935ff0c6cfe542970f04e29c756b0e147251b2fb251f/wget-3.2.zip\n",
            "Building wheels for collected packages: wget\n",
            "  Building wheel for wget (setup.py) ... \u001b[?25l\u001b[?25hdone\n",
            "  Created wheel for wget: filename=wget-3.2-cp36-none-any.whl size=9682 sha256=05160da2618b1a02a62f386303dc5fa8ac45e1c00cd861dc04eba1a9f8276f0a\n",
            "  Stored in directory: /root/.cache/pip/wheels/40/15/30/7d8f7cea2902b4db79e3fea550d7d7b85ecb27ef992b618f3f\n",
            "Successfully built wget\n",
            "Installing collected packages: wget\n",
            "Successfully installed wget-3.2\n"
          ],
          "name": "stdout"
        }
      ]
    },
    {
      "cell_type": "code",
      "metadata": {
        "id": "0qYn0_gs0yvn",
        "colab_type": "code",
        "colab": {
          "base_uri": "https://localhost:8080/",
          "height": 34
        },
        "outputId": "833d61d4-da3e-4f3f-eb57-8c17159f5a4a"
      },
      "source": [
        "import wget\n",
        "wget.download('https://github.com/KhanhPham2411/How-to-Predict-Stock-Prices-Easily-Demo/archive/master.zip')"
      ],
      "execution_count": 4,
      "outputs": [
        {
          "output_type": "execute_result",
          "data": {
            "text/plain": [
              "'How-to-Predict-Stock-Prices-Easily-Demo-master.zip'"
            ]
          },
          "metadata": {
            "tags": []
          },
          "execution_count": 4
        }
      ]
    },
    {
      "cell_type": "code",
      "metadata": {
        "id": "pP164e7C4A1a",
        "colab_type": "code",
        "outputId": "76d02a98-c0f7-4404-8700-8366b24d76ad",
        "colab": {
          "base_uri": "https://localhost:8080/",
          "height": 136
        }
      },
      "source": [
        "!unzip How-to-Predict-Stock-Prices-Easily-Demo-master.zip"
      ],
      "execution_count": 5,
      "outputs": [
        {
          "output_type": "stream",
          "text": [
            "Archive:  How-to-Predict-Stock-Prices-Easily-Demo-master.zip\n",
            "f192bed0f8f22012bbf7c1516f04292831dcce1a\n",
            "   creating: How-to-Predict-Stock-Prices-Easily-Demo-master/\n",
            "  inflating: How-to-Predict-Stock-Prices-Easily-Demo-master/README.md  \n",
            "  inflating: How-to-Predict-Stock-Prices-Easily-Demo-master/lstm.py  \n",
            "  inflating: How-to-Predict-Stock-Prices-Easily-Demo-master/sp500.csv  \n",
            "  inflating: How-to-Predict-Stock-Prices-Easily-Demo-master/stockdemo.ipynb  \n"
          ],
          "name": "stdout"
        }
      ]
    },
    {
      "cell_type": "code",
      "metadata": {
        "id": "4CWfKK2n7ghx",
        "colab_type": "code",
        "outputId": "c644466b-afb8-4b03-8f3b-07719fdd328e",
        "colab": {
          "base_uri": "https://localhost:8080/",
          "height": 34
        }
      },
      "source": [
        "cd How-to-Predict-Stock-Prices-Easily-Demo-master"
      ],
      "execution_count": 6,
      "outputs": [
        {
          "output_type": "stream",
          "text": [
            "/content/How-to-Predict-Stock-Prices-Easily-Demo-master\n"
          ],
          "name": "stdout"
        }
      ]
    },
    {
      "cell_type": "code",
      "metadata": {
        "id": "cYtAAZqXltSJ",
        "colab_type": "code",
        "outputId": "4aa6b439-65ed-4255-a75f-05ac1297a4dd",
        "colab": {
          "base_uri": "https://localhost:8080/",
          "height": 34
        }
      },
      "source": [
        "from keras.layers.core import Dense, Activation, Dropout\n",
        "from keras.layers.recurrent import LSTM\n",
        "from keras.models import Sequential\n",
        "import lstm, time #helper libraries"
      ],
      "execution_count": 8,
      "outputs": [
        {
          "output_type": "stream",
          "text": [
            "Using TensorFlow backend.\n"
          ],
          "name": "stderr"
        }
      ]
    },
    {
      "cell_type": "code",
      "metadata": {
        "id": "4wtzAiKmltSV",
        "colab_type": "code",
        "colab": {}
      },
      "source": [
        "#Step 1 Load Data\n",
        "X_train, y_train, X_test, y_test = lstm.load_data('sp500.csv', 50, True)"
      ],
      "execution_count": 0,
      "outputs": []
    },
    {
      "cell_type": "code",
      "metadata": {
        "id": "nsBC5ydFltSa",
        "colab_type": "code",
        "outputId": "f5774b96-b8a6-4957-d9c9-93285528d9b0",
        "colab": {
          "base_uri": "https://localhost:8080/",
          "height": 34
        }
      },
      "source": [
        "#Step 2 Build Model\n",
        "model = Sequential()\n",
        "\n",
        "model.add(LSTM(\n",
        "    input_dim=1,\n",
        "    output_dim=50,\n",
        "    return_sequences=True))\n",
        "model.add(Dropout(0.2))\n",
        "\n",
        "model.add(LSTM(\n",
        "    100,\n",
        "    return_sequences=False))\n",
        "model.add(Dropout(0.2))\n",
        "\n",
        "model.add(Dense(\n",
        "    output_dim=1))\n",
        "model.add(Activation('linear'))\n",
        "\n",
        "start = time.time()\n",
        "model.compile(loss='mse', optimizer='rmsprop')\n",
        "print('compilation time : ', time.time() - start)"
      ],
      "execution_count": 10,
      "outputs": [
        {
          "output_type": "stream",
          "text": [
            "compilation time :  0.012511730194091797\n"
          ],
          "name": "stdout"
        }
      ]
    },
    {
      "cell_type": "code",
      "metadata": {
        "id": "fTr9kA4GltSf",
        "colab_type": "code",
        "outputId": "aa5f4c68-a425-4476-8ab6-5d3229c5f191",
        "colab": {
          "base_uri": "https://localhost:8080/",
          "height": 85
        }
      },
      "source": [
        "#Step 3 Train the model\n",
        "model.fit(\n",
        "    X_train,\n",
        "    y_train,\n",
        "    batch_size=512,\n",
        "    nb_epoch=1,\n",
        "    validation_split=0.05)"
      ],
      "execution_count": 11,
      "outputs": [
        {
          "output_type": "stream",
          "text": [
            "Train on 3523 samples, validate on 186 samples\n",
            "Epoch 1/1\n",
            "3523/3523 [==============================] - 3s 913us/step - loss: 0.0025 - val_loss: 0.0013\n"
          ],
          "name": "stdout"
        },
        {
          "output_type": "execute_result",
          "data": {
            "text/plain": [
              "<keras.callbacks.callbacks.History at 0x7f6716f2d978>"
            ]
          },
          "metadata": {
            "tags": []
          },
          "execution_count": 11
        }
      ]
    },
    {
      "cell_type": "code",
      "metadata": {
        "id": "1ju9D0CkltSl",
        "colab_type": "code",
        "outputId": "f8af546c-af58-44db-ad41-aa414b05734e",
        "colab": {
          "base_uri": "https://localhost:8080/",
          "height": 283
        }
      },
      "source": [
        "#Step 4 - Plot the predictions!\n",
        "predictions = lstm.predict_sequences_multiple(model, X_test, 50, 50)\n",
        "lstm.plot_results_multiple(predictions, y_test, 50)"
      ],
      "execution_count": 12,
      "outputs": [
        {
          "output_type": "stream",
          "text": [
            "yo\n"
          ],
          "name": "stdout"
        },
        {
          "output_type": "display_data",
          "data": {
            "image/png": "[encoded data removed]",
            "text/plain": [
              "<Figure size 432x288 with 1 Axes>"
            ]
          },
          "metadata": {
            "tags": []
          }
        }
      ]
    }
  ]
}